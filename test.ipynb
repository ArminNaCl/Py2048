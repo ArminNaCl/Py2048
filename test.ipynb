{
 "cells": [
  {
   "cell_type": "code",
   "execution_count": 6,
   "metadata": {},
   "outputs": [
    {
     "data": {
      "text/plain": [
       "[[<__main__.a at 0x7f532b263fd0>,\n",
       "  <__main__.a at 0x7f532b260c10>,\n",
       "  <__main__.a at 0x7f532b261330>,\n",
       "  <__main__.a at 0x7f532b263f40>],\n",
       " [<__main__.a at 0x7f532b261ba0>,\n",
       "  <__main__.a at 0x7f532b262500>,\n",
       "  <__main__.a at 0x7f532b263250>,\n",
       "  <__main__.a at 0x7f532b262ec0>],\n",
       " [<__main__.a at 0x7f532b260d90>,\n",
       "  <__main__.a at 0x7f532b2639a0>,\n",
       "  <__main__.a at 0x7f532b2606d0>,\n",
       "  <__main__.a at 0x7f532b261db0>],\n",
       " [<__main__.a at 0x7f532b263a90>,\n",
       "  <__main__.a at 0x7f532b261b70>,\n",
       "  <__main__.a at 0x7f53283c9750>,\n",
       "  <__main__.a at 0x7f53283cb9a0>]]"
      ]
     },
     "execution_count": 6,
     "metadata": {},
     "output_type": "execute_result"
    }
   ],
   "source": [
    "[[a() for _ in range(4)] for _ in range(4)]\n"
   ]
  },
  {
   "cell_type": "code",
   "execution_count": 2,
   "metadata": {},
   "outputs": [],
   "source": [
    "class a:\n",
    "    def __init__(self) -> None:\n",
    "        pass\n",
    "    \n",
    "    "
   ]
  },
  {
   "cell_type": "code",
   "execution_count": null,
   "metadata": {},
   "outputs": [],
   "source": []
  }
 ],
 "metadata": {
  "kernelspec": {
   "display_name": "Python 3",
   "language": "python",
   "name": "python3"
  },
  "language_info": {
   "codemirror_mode": {
    "name": "ipython",
    "version": 3
   },
   "file_extension": ".py",
   "mimetype": "text/x-python",
   "name": "python",
   "nbconvert_exporter": "python",
   "pygments_lexer": "ipython3",
   "version": "3.10.8"
  },
  "orig_nbformat": 4,
  "vscode": {
   "interpreter": {
    "hash": "e7370f93d1d0cde622a1f8e1c04877d8463912d04d973331ad4851f04de6915a"
   }
  }
 },
 "nbformat": 4,
 "nbformat_minor": 2
}
